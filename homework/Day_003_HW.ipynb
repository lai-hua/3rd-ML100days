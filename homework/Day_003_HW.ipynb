{
 "cells": [
  {
   "cell_type": "code",
   "execution_count": 1,
   "metadata": {},
   "outputs": [],
   "source": [
    "# 作業 1：目標: 讓 16×16 圖像放大8倍圖片還不會模糊，可以將非常小的圖片表情恢復原狀\n",
    "\n",
    "#作業 2：方法--提出了一種新的人臉識別方法，用這個方法可生成逼真的8倍超分辨率的人臉圖像的同時，\n",
    "#               完全保留其面部細節。該神經網絡的訓練方法是漸進式的，通過將網絡分割成連續的步驟，\n",
    " #              使訓練穩定下來，每一步輸出的分辨率都在不斷提高。\n",
    "  #             論文還提出了一種新的面部缺失方法，並將其應用於每一步的訓練中，通過增加像素差和熱圖值來更詳細地恢復面部屬性。\n",
    "   #            提出一個壓縮版本的人臉對齊網絡（FAN）的標誌熱圖提取。\n",
    "    #           利用所提出的FAN，可以提取出適合於人臉SR的熱圖，\n",
    "     #          並減少了整體訓練時間。實驗結果證明，該方法在定性和定量測量方面都優於目前最先進的方法，尤其是在面部感知質量方面。\n",
    "\n",
    "#作業 3：資料來源--Progressive Face Super-Resolution via Attention to Facial Landmark（https://arxiv.org/abs/1908.08239）"
   ]
  },
  {
   "cell_type": "code",
   "execution_count": null,
   "metadata": {},
   "outputs": [],
   "source": []
  }
 ],
 "metadata": {
  "kernelspec": {
   "display_name": "Python 3",
   "language": "python",
   "name": "python3"
  },
  "language_info": {
   "codemirror_mode": {
    "name": "ipython",
    "version": 3
   },
   "file_extension": ".py",
   "mimetype": "text/x-python",
   "name": "python",
   "nbconvert_exporter": "python",
   "pygments_lexer": "ipython3",
   "version": "3.7.3"
  }
 },
 "nbformat": 4,
 "nbformat_minor": 2
}
